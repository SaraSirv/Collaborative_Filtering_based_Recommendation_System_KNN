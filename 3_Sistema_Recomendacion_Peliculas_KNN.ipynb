{
 "cells": [
  {
   "cell_type": "markdown",
   "metadata": {
    "colab_type": "text",
    "id": "abIPUQ1LBeq_",
    "pycharm": {}
   },
   "source": [
    "# Caso Práctico de Módulo 3: Implementación de un Sistema de Recomendación de películas: MovieLens\n",
    "\n",
    "\n",
    "* En este Notebook vamos a implementar y evaluar un ***Sistema de Recomendación basado en Filtrado Colaborativo con KNN*** usando la base de datos de [MovieLens 100K](https://grouplens.org/datasets/movielens/).\n",
    "\n",
    "\n",
    "* Esta base de datos contiene 100.000 votos con notas de 1 a 5 de 943 usuarios sobre 1682 películas.\n",
    "\n",
    "\n",
    "* Este dataset ha sido dividido en votaciones de entrenamiento (80%) y votaciones de test (20%). Además para simplificar el problema, los códigos de usuarios e items, han sido modificados para que comience en 0 y terminen en el número de (usuarios / items) - 1.\n",
    "\n",
    "\n",
    "* Para ***implementar y evaluar este Sistema de Recomendación*** realizaremos los siguientes paso:\n",
    "<span></span><br>\n",
    "    1. [Lectura del Dataset (Entrenamiento y Test)](#M1)\n",
    "<span></span><br>\n",
    "    2. [Cálculo de similaridades](#M2)\n",
    "<span></span><br>\n",
    "    3. [Cálculo de los K-Vecinos](#M3)\n",
    "<span></span><br>\n",
    "    4. [Cálculo de las Predicciones](#M4)\n",
    "<span></span><br>\n",
    "    5. [Cálculo de las recomendaciones(*)](#M5)\n",
    "<span></span><br>\n",
    "    6. [Evaluación del Sistema de Recomendación (MAE)](#M6)\n",
    "<span></span><br>\n",
    "    7. [Sistema de Recomendación y Evaluación](#M7)\n",
    "\n",
    "\n",
    "##### (*): El punto del cálculo de las Recomendaciones no lo vamos a realizar ya que este punto no es relevante de cara a evaluar el sistema de recomendación implementado.\n"
   ]
  },
  {
   "cell_type": "markdown",
   "metadata": {
    "pycharm": {}
   },
   "source": [
    "<hr>\n",
    "\n",
    "\n",
    "# <a name=\"M1\">1.- Lectura del Dataset (Entrenamiento y Test)\n",
    "    \n",
    "    \n",
    "* A continuación implementamos una función que data la ruta donde se encuentra un fichero con la estructura \"ID_USER::ID_MOVIE::RATING\" nos devuelva una matriz de votos:"
   ]
  },
  {
   "cell_type": "code",
   "execution_count": 3,
   "metadata": {
    "pycharm": {}
   },
   "outputs": [],
   "source": [
    "def read_ratings_matrix(file):\n",
    "\n",
    "    ratings = [[None for _ in range(NUM_ITEMS)] for _ in range(NUM_USERS)] \n",
    "    \n",
    "    with open(file, 'r') as reader:\n",
    "        for line in reader:\n",
    "            [u, i, rating] = line.split(\"::\")\n",
    "            ratings[int(u)][int(i)] = int(rating)\n",
    "            \n",
    "    return ratings"
   ]
  },
  {
   "cell_type": "markdown",
   "metadata": {
    "pycharm": {}
   },
   "source": [
    "<hr>\n",
    "\n",
    "\n",
    "# <a name=\"M2\"> 2.- Cálculo de *Similaridades*\n",
    "\n",
    "\n",
    "* A continuación implementamos una función que dada una matriz de votos y una métrica de similaridad, nos devuelva una matriz de similaridades entre cada par de usuarios.\n",
    "\n",
    "\n",
    "* Tambien implemantamos las métricas de similaridad de:\n",
    "    + MSD\n",
    "    + Coseno\n",
    "    + Correlación de Pearson\n",
    "    + JMSD"
   ]
  },
  {
   "cell_type": "code",
   "execution_count": 4,
   "metadata": {
    "pycharm": {}
   },
   "outputs": [],
   "source": [
    "def calculate_similarities(ratings_matrix, similarity_metric):\n",
    "    \n",
    "    # Creamos una matriz con valores de similaridad a -1\n",
    "    similarities = [[float('-inf') for _ in range(NUM_USERS)] for _ in range(NUM_USERS)]\n",
    "    \n",
    "    # Recorremos la matriz por usuario\n",
    "    for i, u in enumerate(ratings_matrix):\n",
    "        if i%100==0:\n",
    "            print(\"\\tProcesandos {} Usuarios\".format(i))\n",
    "        for j, v in enumerate(ratings_matrix):\n",
    "            if j != i: # No calculamos la similaridad para un mismo usuario\n",
    "                similarities[i][j] = similarity_metric(u,v)\n",
    "        \n",
    "    return similarities\n",
    "\n",
    "\n",
    "def rating_average(ratings):\n",
    "    \n",
    "    acc = 0\n",
    "    count = 0\n",
    "    for id_item in range(len(ratings)):\n",
    "        if ratings[id_item] != None:\n",
    "            acc += ratings[id_item]\n",
    "            count += 1\n",
    "    return acc / count\n",
    "\n",
    "\n",
    "def msd_similarity(u, v):\n",
    "    \n",
    "    sum_r = 0 \n",
    "    count = 0\n",
    "    \n",
    "    for i in range(len(u)):\n",
    "        if u[i] != None and v[i] != None:\n",
    "            count += 1\n",
    "            sum_r += math.pow((u[i] - v[i])/(MAX_RATING - MIN_RATING), 2)\n",
    "            \n",
    "    if count > 0:\n",
    "        sim = 1-(sum_r/float(count))\n",
    "        return sim\n",
    "    else:\n",
    "        return None\n",
    "    \n",
    "    \n",
    "def cosine_similarity(u, v):\n",
    "    \n",
    "    numerador = 0\n",
    "    denominador_u = 0\n",
    "    denominador_v = 0\n",
    "    \n",
    "    count = 0\n",
    "    \n",
    "    for i in range(len(u)):\n",
    "        if u[i] != None and v[i] != None:\n",
    "            numerador += u[i] * v[i]\n",
    "            denominador_u += math.pow(u[i], 2)\n",
    "            denominador_v += math.pow(v[i], 2)\n",
    "            count += 1\n",
    "    if count > 0 and denominador_u != 0 and denominador_v != 0:\n",
    "        cos = numerador / (math.sqrt(denominador_u) * math.sqrt(denominador_v))\n",
    "        return cos\n",
    "    else:\n",
    "        return None\n",
    "    \n",
    "    \n",
    "def jmsd_similarity(u, v):\n",
    "    \n",
    "    union = 0\n",
    "    intersection = 0\n",
    "    \n",
    "    for i in range(len(u)):\n",
    "        if u[i] != None and v[i] != None:\n",
    "            intersection += 1\n",
    "            union += 1\n",
    "        elif u[i] != None or v[i] != None:  \n",
    "            union += 1\n",
    "            \n",
    "    if intersection > 0:\n",
    "        jaccard = intersection / union\n",
    "        return jaccard * msd_similarity(u,v)\n",
    "    else:\n",
    "        return None\n"
   ]
  },
  {
   "cell_type": "markdown",
   "metadata": {
    "pycharm": {}
   },
   "source": [
    "<hr>\n",
    "\n",
    "\n",
    "# <a name=\"M3\"> 3.- Cálculo de los *K-Vecinos*\n",
    "    \n",
    "    \n",
    "* A continuación implementamos una función que dada una matriz de similaridades entre usuarios y un valor de 'K' (número de vecinos a calcular), nos devuelva una matriz de \"NUM_USERS x K_VECINOS\" indicando los vecinos de cada usuario:"
   ]
  },
  {
   "cell_type": "code",
   "execution_count": 5,
   "metadata": {
    "pycharm": {}
   },
   "outputs": [],
   "source": [
    "def calculate_neighbors(similarities_matrix, k_neighbors):\n",
    "    \n",
    "    neighbors = [None for _ in range(NUM_USERS)]\n",
    "    \n",
    "    for index, similarities in enumerate(similarities_matrix):\n",
    "        i_neighbors = [i[0] for i in sorted(enumerate(similarities), \n",
    "                                            key=lambda x:float('-inf') if x[1] is None else x[1], \n",
    "                                            reverse=True)]\n",
    "        neighbors[index] = i_neighbors[0:k_neighbors]\n",
    "\n",
    "    return neighbors"
   ]
  },
  {
   "cell_type": "markdown",
   "metadata": {
    "pycharm": {}
   },
   "source": [
    "<hr>\n",
    "\n",
    "\n",
    "# <a name=\"M4\"> 4.- Cálculo de las *Predicciones*\n",
    "    \n",
    "    \n",
    "* A continuación implementamos un método que nos calcule las predicciones de los votos que emitirian los usuarios sobre los items con el método de agregación de \"Media Ponderada\":"
   ]
  },
  {
   "cell_type": "code",
   "execution_count": 6,
   "metadata": {
    "pycharm": {}
   },
   "outputs": [],
   "source": [
    "def calculate_weighted_average_prediction(ratings_matrix, similarities_matrix, neighbors):\n",
    "    \n",
    "    # Creamos una matriz para el cálculo de predicciones\n",
    "    predictions = [[None for _ in range(NUM_ITEMS)] for _ in range(NUM_USERS)]\n",
    "    \n",
    "    # Recorremos la matriz de votos\n",
    "    for i, u in enumerate(ratings_matrix):\n",
    "        for j, v in enumerate(ratings_matrix[0]):\n",
    "            # Obtenemos las similaridades con cada vecino y si voto\n",
    "            numerador = 0 \n",
    "            denominador = 0\n",
    "            for neighbor in neighbors[i]:\n",
    "                if ratings_matrix[neighbor][j] != None:\n",
    "                    numerador += similarities_matrix[i][neighbor] * ratings_matrix[neighbor][j]\n",
    "                    denominador += similarities_matrix[i][neighbor]\n",
    "                    \n",
    "            predictions[i][j] = None if denominador == 0 else numerador/denominador\n",
    "            \n",
    "    return predictions\n"
   ]
  },
  {
   "cell_type": "markdown",
   "metadata": {
    "pycharm": {}
   },
   "source": [
    "<hr>\n",
    "\n",
    "\n",
    "# <a name=\"M6\"> 6.- Evaluación del Sistema de Recomendación (MAE)\n",
    "    \n",
    "    \n",
    "* A continuación se implementa un método que dada la matriz de votos y la matriz de predicciones nos devuelve el MAE del Sistema de Recomendación:"
   ]
  },
  {
   "cell_type": "code",
   "execution_count": 7,
   "metadata": {
    "pycharm": {}
   },
   "outputs": [],
   "source": [
    "def get_mae(ratings_matrix, predictions_matrix):\n",
    "    \n",
    "    mae_users = [None for _ in ratings_matrix]\n",
    "    \n",
    "    # Recorremos la matriz de votos\n",
    "    for i, u in enumerate(ratings_matrix):\n",
    "        # Calculamos el MAE de cada usuario\n",
    "        sum_user = 0\n",
    "        count = 0\n",
    "        for j, v in enumerate(ratings_matrix[0]):\n",
    "            if ratings_matrix[i][j] != None and predictions_matrix[i][j] != None:\n",
    "                sum_user += abs(ratings_matrix[i][j] - predictions_matrix[i][j])\n",
    "                count += 1\n",
    "        mae_users[i] = sum_user/count if count > 0 else None\n",
    "\n",
    "    return np.nanmean(np.array(mae_users, dtype=np.float), axis=0)"
   ]
  },
  {
   "cell_type": "markdown",
   "metadata": {
    "pycharm": {}
   },
   "source": [
    "<hr>\n",
    "\n",
    "\n",
    "# <a name=\"M7\">7.- Sistema de Recomendación y Evaluación\n",
    "    \n",
    "    \n",
    "* A continuación se implementa el \"Sistema de Recomendación\", en el cual:\n",
    "    + Calcularemos las similaridades para distintas métricas de similaridad\n",
    "    + Realizaremos las predicciones para diferentes números de vecinos\n",
    "    + Evaluaremos para cada experimento los conjuntos de entrenamiento y test."
   ]
  },
  {
   "cell_type": "code",
   "execution_count": 13,
   "metadata": {
    "pycharm": {},
    "scrolled": false
   },
   "outputs": [
    {
     "name": "stdout",
     "output_type": "stream",
     "text": [
      "MSD: Cálculo de similatidades\n",
      "\tProcesandos 0 Usuarios\n",
      "\tProcesandos 100 Usuarios\n",
      "\tProcesandos 200 Usuarios\n",
      "\tProcesandos 300 Usuarios\n",
      "\tProcesandos 400 Usuarios\n",
      "\tProcesandos 500 Usuarios\n",
      "\tProcesandos 600 Usuarios\n",
      "\tProcesandos 700 Usuarios\n",
      "\tProcesandos 800 Usuarios\n",
      "\tProcesandos 900 Usuarios\n",
      "  25 Vecinos\n"
     ]
    },
    {
     "name": "stderr",
     "output_type": "stream",
     "text": [
      "<ipython-input-7-01807cb8cd68>:16: DeprecationWarning: `np.float` is a deprecated alias for the builtin `float`. To silence this warning, use `float` by itself. Doing this will not modify any behavior and is safe. If you specifically wanted the numpy scalar type, use `np.float64` here.\n",
      "Deprecated in NumPy 1.20; for more details and guidance: https://numpy.org/devdocs/release/1.20.0-notes.html#deprecations\n",
      "  return np.nanmean(np.array(mae_users, dtype=np.float), axis=0)\n"
     ]
    },
    {
     "name": "stdout",
     "output_type": "stream",
     "text": [
      "  50 Vecinos\n",
      "  100 Vecinos\n",
      "  150 Vecinos\n",
      "  200 Vecinos\n",
      "  300 Vecinos\n",
      "  400 Vecinos\n",
      "  500 Vecinos\n",
      "COSENO: Cálculo de similatidades\n",
      "\tProcesandos 0 Usuarios\n",
      "\tProcesandos 100 Usuarios\n",
      "\tProcesandos 200 Usuarios\n",
      "\tProcesandos 300 Usuarios\n",
      "\tProcesandos 400 Usuarios\n",
      "\tProcesandos 500 Usuarios\n",
      "\tProcesandos 600 Usuarios\n",
      "\tProcesandos 700 Usuarios\n",
      "\tProcesandos 800 Usuarios\n",
      "\tProcesandos 900 Usuarios\n",
      "  25 Vecinos\n",
      "  50 Vecinos\n",
      "  100 Vecinos\n",
      "  150 Vecinos\n",
      "  200 Vecinos\n",
      "  300 Vecinos\n",
      "  400 Vecinos\n",
      "  500 Vecinos\n",
      "JMSD: Cálculo de similatidades\n",
      "\tProcesandos 0 Usuarios\n",
      "\tProcesandos 100 Usuarios\n",
      "\tProcesandos 200 Usuarios\n",
      "\tProcesandos 300 Usuarios\n",
      "\tProcesandos 400 Usuarios\n",
      "\tProcesandos 500 Usuarios\n",
      "\tProcesandos 600 Usuarios\n",
      "\tProcesandos 700 Usuarios\n",
      "\tProcesandos 800 Usuarios\n",
      "\tProcesandos 900 Usuarios\n",
      "  25 Vecinos\n",
      "  50 Vecinos\n",
      "  100 Vecinos\n",
      "  150 Vecinos\n",
      "  200 Vecinos\n",
      "  300 Vecinos\n",
      "  400 Vecinos\n",
      "  500 Vecinos\n"
     ]
    }
   ],
   "source": [
    "import math\n",
    "import numpy as np\n",
    "import pandas as pd\n",
    "\n",
    "# Número de usuarios e items\n",
    "NUM_USERS = 943\n",
    "NUM_ITEMS = 1682\n",
    "\n",
    "# Notas máximas y mínimas dadas en la matriz de votos\n",
    "MIN_RATING = 1\n",
    "MAX_RATING = 5\n",
    "\n",
    "# Ruta del los datasets de entrenamiento y test\n",
    "TRAIN_RATINGS_FILE = './data/movielens_100K_train_test/movielens_100k_training.txt'\n",
    "TEST_RATINGS_FILE = './data/movielens_100K_train_test/movielens_100k_test.txt'\n",
    "\n",
    "# Lectura de los Datasets de Entrenamiento y Test\n",
    "train_ratings = read_ratings_matrix(file=TRAIN_RATINGS_FILE)\n",
    "test_ratings = read_ratings_matrix(file=TEST_RATINGS_FILE)\n",
    "\n",
    "# Metricas, K vecinos y predicciones a probar\n",
    "SIMILARITIES_METRICS = [('MSD', msd_similarity), \n",
    "                        ('COSENO', cosine_similarity),  \n",
    "                        ('JMSD', jmsd_similarity)]\n",
    "K_NEIGHBORS = [25, 50, 100, 150, 200, 300, 400, 500]\n",
    "\n",
    "\n",
    "# Guardo en una lista los experimentos realizados, siendo un experimento una lista con 4 posiciones:\n",
    "#     1.- Métrica de similaridad\n",
    "#     2.- Número de vecinos\n",
    "#     3.- MAE\n",
    "#     4.- Entrenamiento o Test\n",
    "experiments = []\n",
    "        \n",
    "for metric in SIMILARITIES_METRICS:\n",
    "    print('{}: Cálculo de similatidades'.format(metric[0]))\n",
    "    similarities_matrix = calculate_similarities(ratings_matrix=train_ratings, \n",
    "                                                 similarity_metric=metric[1])\n",
    "    for k in K_NEIGHBORS:\n",
    "        \n",
    "        print('  {} Vecinos'.format(k))\n",
    "        neighbors_matrix = calculate_neighbors(k_neighbors=k, \n",
    "                                               similarities_matrix=similarities_matrix)\n",
    "        \n",
    "        # Calculamos las predicciones\n",
    "        predictions = calculate_weighted_average_prediction(ratings_matrix=train_ratings,\n",
    "                                                            similarities_matrix=similarities_matrix,\n",
    "                                                            neighbors=neighbors_matrix)\n",
    "        # Calculamos el MAE para entrenamiento y test\n",
    "        mae_train = get_mae(ratings_matrix=train_ratings, \n",
    "                            predictions_matrix=predictions)\n",
    "        mae_test = get_mae(ratings_matrix=test_ratings, \n",
    "                            predictions_matrix=predictions)\n",
    "        \n",
    "        \n",
    "        # Añadimos los experimentos a la lista\n",
    "        experiments.append([metric[0], k, mae_train, \"Train\"])\n",
    "        experiments.append([metric[0], k, mae_test, \"Test\"])\n",
    "        "
   ]
  },
  {
   "cell_type": "markdown",
   "metadata": {
    "pycharm": {}
   },
   "source": [
    "* Pasamos los resultados de los experimentos a un DataFrame:"
   ]
  },
  {
   "cell_type": "code",
   "execution_count": 14,
   "metadata": {
    "pycharm": {}
   },
   "outputs": [],
   "source": [
    "# Pasamos los resultados de los experimentos a un DataFrame\n",
    "df_results = pd.DataFrame.from_records(experiments,\n",
    "                                       columns=['Metrica', 'K-Vecinos', 'MAE', 'Train/Test'])\n"
   ]
  },
  {
   "cell_type": "markdown",
   "metadata": {
    "pycharm": {}
   },
   "source": [
    "* Mostramos los resultados de los experimentos con los datos de entrenamiento:"
   ]
  },
  {
   "cell_type": "code",
   "execution_count": 15,
   "metadata": {
    "pycharm": {}
   },
   "outputs": [
    {
     "data": {
      "text/html": [
       "<div>\n",
       "<style scoped>\n",
       "    .dataframe tbody tr th:only-of-type {\n",
       "        vertical-align: middle;\n",
       "    }\n",
       "\n",
       "    .dataframe tbody tr th {\n",
       "        vertical-align: top;\n",
       "    }\n",
       "\n",
       "    .dataframe thead tr th {\n",
       "        text-align: left;\n",
       "    }\n",
       "\n",
       "    .dataframe thead tr:last-of-type th {\n",
       "        text-align: right;\n",
       "    }\n",
       "</style>\n",
       "<table border=\"1\" class=\"dataframe\">\n",
       "  <thead>\n",
       "    <tr>\n",
       "      <th></th>\n",
       "      <th colspan=\"3\" halign=\"left\">MAE</th>\n",
       "    </tr>\n",
       "    <tr>\n",
       "      <th>Metrica</th>\n",
       "      <th>COSENO</th>\n",
       "      <th>JMSD</th>\n",
       "      <th>MSD</th>\n",
       "    </tr>\n",
       "    <tr>\n",
       "      <th>K-Vecinos</th>\n",
       "      <th></th>\n",
       "      <th></th>\n",
       "      <th></th>\n",
       "    </tr>\n",
       "  </thead>\n",
       "  <tbody>\n",
       "    <tr>\n",
       "      <th>25</th>\n",
       "      <td>0.739705</td>\n",
       "      <td>0.789135</td>\n",
       "      <td>0.189270</td>\n",
       "    </tr>\n",
       "    <tr>\n",
       "      <th>50</th>\n",
       "      <td>0.714021</td>\n",
       "      <td>0.784164</td>\n",
       "      <td>0.313055</td>\n",
       "    </tr>\n",
       "    <tr>\n",
       "      <th>100</th>\n",
       "      <td>0.682957</td>\n",
       "      <td>0.788175</td>\n",
       "      <td>0.439108</td>\n",
       "    </tr>\n",
       "    <tr>\n",
       "      <th>150</th>\n",
       "      <td>0.668099</td>\n",
       "      <td>0.792791</td>\n",
       "      <td>0.499039</td>\n",
       "    </tr>\n",
       "    <tr>\n",
       "      <th>200</th>\n",
       "      <td>0.655862</td>\n",
       "      <td>0.795384</td>\n",
       "      <td>0.537014</td>\n",
       "    </tr>\n",
       "    <tr>\n",
       "      <th>300</th>\n",
       "      <td>0.667087</td>\n",
       "      <td>0.800467</td>\n",
       "      <td>0.596012</td>\n",
       "    </tr>\n",
       "    <tr>\n",
       "      <th>400</th>\n",
       "      <td>0.693104</td>\n",
       "      <td>0.803457</td>\n",
       "      <td>0.641578</td>\n",
       "    </tr>\n",
       "    <tr>\n",
       "      <th>500</th>\n",
       "      <td>0.719150</td>\n",
       "      <td>0.805755</td>\n",
       "      <td>0.681724</td>\n",
       "    </tr>\n",
       "  </tbody>\n",
       "</table>\n",
       "</div>"
      ],
      "text/plain": [
       "                MAE                    \n",
       "Metrica      COSENO      JMSD       MSD\n",
       "K-Vecinos                              \n",
       "25         0.739705  0.789135  0.189270\n",
       "50         0.714021  0.784164  0.313055\n",
       "100        0.682957  0.788175  0.439108\n",
       "150        0.668099  0.792791  0.499039\n",
       "200        0.655862  0.795384  0.537014\n",
       "300        0.667087  0.800467  0.596012\n",
       "400        0.693104  0.803457  0.641578\n",
       "500        0.719150  0.805755  0.681724"
      ]
     },
     "execution_count": 15,
     "metadata": {},
     "output_type": "execute_result"
    }
   ],
   "source": [
    "pd.pivot_table(df_results[df_results['Train/Test']=='Train'], \n",
    "               values=['MAE'], \n",
    "               index=['K-Vecinos'],\n",
    "               columns=['Metrica'])"
   ]
  },
  {
   "cell_type": "markdown",
   "metadata": {
    "pycharm": {}
   },
   "source": [
    "* Mostramos los resultados de los experimentos con los datos de test:"
   ]
  },
  {
   "cell_type": "code",
   "execution_count": 16,
   "metadata": {
    "pycharm": {}
   },
   "outputs": [
    {
     "data": {
      "text/html": [
       "<div>\n",
       "<style scoped>\n",
       "    .dataframe tbody tr th:only-of-type {\n",
       "        vertical-align: middle;\n",
       "    }\n",
       "\n",
       "    .dataframe tbody tr th {\n",
       "        vertical-align: top;\n",
       "    }\n",
       "\n",
       "    .dataframe thead tr th {\n",
       "        text-align: left;\n",
       "    }\n",
       "\n",
       "    .dataframe thead tr:last-of-type th {\n",
       "        text-align: right;\n",
       "    }\n",
       "</style>\n",
       "<table border=\"1\" class=\"dataframe\">\n",
       "  <thead>\n",
       "    <tr>\n",
       "      <th></th>\n",
       "      <th colspan=\"3\" halign=\"left\">MAE</th>\n",
       "    </tr>\n",
       "    <tr>\n",
       "      <th>Metrica</th>\n",
       "      <th>COSENO</th>\n",
       "      <th>JMSD</th>\n",
       "      <th>MSD</th>\n",
       "    </tr>\n",
       "    <tr>\n",
       "      <th>K-Vecinos</th>\n",
       "      <th></th>\n",
       "      <th></th>\n",
       "      <th></th>\n",
       "    </tr>\n",
       "  </thead>\n",
       "  <tbody>\n",
       "    <tr>\n",
       "      <th>25</th>\n",
       "      <td>0.991211</td>\n",
       "      <td>0.881689</td>\n",
       "      <td>0.943860</td>\n",
       "    </tr>\n",
       "    <tr>\n",
       "      <th>50</th>\n",
       "      <td>0.983949</td>\n",
       "      <td>0.857734</td>\n",
       "      <td>0.903342</td>\n",
       "    </tr>\n",
       "    <tr>\n",
       "      <th>100</th>\n",
       "      <td>0.945913</td>\n",
       "      <td>0.850982</td>\n",
       "      <td>0.871570</td>\n",
       "    </tr>\n",
       "    <tr>\n",
       "      <th>150</th>\n",
       "      <td>0.901831</td>\n",
       "      <td>0.860059</td>\n",
       "      <td>0.845946</td>\n",
       "    </tr>\n",
       "    <tr>\n",
       "      <th>200</th>\n",
       "      <td>0.890210</td>\n",
       "      <td>0.859590</td>\n",
       "      <td>0.832801</td>\n",
       "    </tr>\n",
       "    <tr>\n",
       "      <th>300</th>\n",
       "      <td>0.878561</td>\n",
       "      <td>0.857354</td>\n",
       "      <td>0.829561</td>\n",
       "    </tr>\n",
       "    <tr>\n",
       "      <th>400</th>\n",
       "      <td>0.865961</td>\n",
       "      <td>0.863219</td>\n",
       "      <td>0.836281</td>\n",
       "    </tr>\n",
       "    <tr>\n",
       "      <th>500</th>\n",
       "      <td>0.862582</td>\n",
       "      <td>0.865219</td>\n",
       "      <td>0.839224</td>\n",
       "    </tr>\n",
       "  </tbody>\n",
       "</table>\n",
       "</div>"
      ],
      "text/plain": [
       "                MAE                    \n",
       "Metrica      COSENO      JMSD       MSD\n",
       "K-Vecinos                              \n",
       "25         0.991211  0.881689  0.943860\n",
       "50         0.983949  0.857734  0.903342\n",
       "100        0.945913  0.850982  0.871570\n",
       "150        0.901831  0.860059  0.845946\n",
       "200        0.890210  0.859590  0.832801\n",
       "300        0.878561  0.857354  0.829561\n",
       "400        0.865961  0.863219  0.836281\n",
       "500        0.862582  0.865219  0.839224"
      ]
     },
     "execution_count": 16,
     "metadata": {},
     "output_type": "execute_result"
    }
   ],
   "source": [
    "pd.pivot_table(df_results[df_results['Train/Test']=='Test'], \n",
    "               values=['MAE'], \n",
    "               index=['K-Vecinos'],\n",
    "               columns=['Metrica'])"
   ]
  },
  {
   "cell_type": "markdown",
   "metadata": {
    "pycharm": {}
   },
   "source": [
    "* Pintamos los resultados"
   ]
  },
  {
   "cell_type": "code",
   "execution_count": 17,
   "metadata": {
    "pycharm": {}
   },
   "outputs": [
    {
     "data": {
      "image/png": "[encoded data removed]",
      "text/plain": [
       "<Figure size 1440x432 with 2 Axes>"
      ]
     },
     "metadata": {
      "needs_background": "light"
     },
     "output_type": "display_data"
    }
   ],
   "source": [
    "import seaborn as sns\n",
    "import matplotlib.pyplot as plt\n",
    "\n",
    "plt.subplots(figsize = (20, 6))\n",
    "# Pintamos el MAE con los datos de Entrenamiento\n",
    "plt.subplot(1, 2, 1)\n",
    "plt.title('MAE vs K-Vecinos (Entrenamiento)')\n",
    "sns.lineplot(x=\"K-Vecinos\", y=\"MAE\", hue=\"Metrica\", data=df_results[df_results['Train/Test']=='Train'])\n",
    "\n",
    "# Pintamos el MAE con los datos de Test\n",
    "plt.subplot(1, 2, 2)\n",
    "plt.title('MAE vs K-Vecinos (Test)')\n",
    "sns.lineplot(x=\"K-Vecinos\", y=\"MAE\", hue=\"Metrica\", data=df_results[df_results['Train/Test']=='Test'])\n",
    "\n",
    "plt.show()"
   ]
  },
  {
   "cell_type": "markdown",
   "metadata": {},
   "source": [
    "Si se analiza el resultado obtenido en el grafico (Test) obtenemos el resultado de los modelos que hemos entrenado con los datos. Se observa como tanto MSD como COSENO presentan un comportamiento decreciente, mientras que el perfil de JMSD es más lineal. Es decir, MSD y COSENO presentan valores más altos para los primeros K-vecinos pero conforme se aumenta el número de vecinos, el valor de MAE cae considerablemente, sobretodo MSD. Sin embargo JMSD se mantiene practicamente constante en torno a 0.87. \n",
    "\n",
    "Por ello, se puede concluir que para un número de vecinos menor de 150, la mejor métrica de similaridad a usar es COSENO, pero, si se quiere usar un número de vecinos mayor a 150, la métrica de similaridad más correcta sería JMSD ya que presenta un comportamiento lineal desde 150 vecinos hasta 500."
   ]
  }
 ],
 "metadata": {
  "colab": {
   "collapsed_sections": [],
   "name": "3.1. KNN-solucion.ipynb",
   "provenance": [],
   "version": "0.3.2"
  },
  "kernelspec": {
   "display_name": "Python 3",
   "language": "python",
   "name": "python3"
  },
  "language_info": {
   "codemirror_mode": {
    "name": "ipython",
    "version": 3
   },
   "file_extension": ".py",
   "mimetype": "text/x-python",
   "name": "python",
   "nbconvert_exporter": "python",
   "pygments_lexer": "ipython3",
   "version": "3.8.8"
  }
 },
 "nbformat": 4,
 "nbformat_minor": 4
}
